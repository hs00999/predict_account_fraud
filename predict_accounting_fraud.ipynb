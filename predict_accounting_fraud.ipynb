{
 "cells": [
  {
   "cell_type": "markdown",
   "metadata": {},
   "source": [
    "<딥러닝을 이용한 재무비율에 따른 분식회계 적발 가능성>\n",
    "\n",
    "#INTRODUCTION\n",
    "\n",
    "회계감사 과정에 있어 비재무적 정보를 제외한 재무적 정보만을 통해 기업의 분식회계 가능성에 대해 알아보고 싶어 이 프로젝트를 시작하게되었다. \n",
    "『김문철.황문호 . 2007 . 분식회계기업의 적발 . 회계저널(제16권 제3호):1~34』논문을 참고하여 재무비율의 변화를 통한 분식회계 가능성을 예측 할 수 있는 재무비율 변수들을 선정하였다. 기업의 재무 데이터는 금융감독원의 감리지적 기업 데이터와 일반 기업데이터를 KIS-VALUE 를 통해 추출하였다. 총 100개 기업의 데이터로 데이터셋을 구성하였고, 37개의 감리지적기업과 63개의성된다. \n",
    "딥러닝 라이브러리는 keras를 사용하였고, keras에서 제공하는 sequential 모델을 통해 데이터를 학습시켰다."
   ]
  },
  {
   "cell_type": "markdown",
   "metadata": {},
   "source": [
    "##Data preprosessing##"
   ]
  },
  {
   "cell_type": "code",
   "execution_count": 1,
   "metadata": {},
   "outputs": [],
   "source": [
    "from sklearn import preprocessing\n",
    "import matplotlib.pyplot as plt\n",
    "import numpy as np\n",
    "import pandas as pd\n",
    "import shutil\n",
    "import os\n",
    "import requests\n",
    "import base64\n",
    "\n",
    "\n",
    "# 텍스트값 -> 인덱스 변환 (Y->1 / N->0)\n",
    "def encode_text_index(df, name):\n",
    "    le = preprocessing.LabelEncoder()\n",
    "    df[name] = le.fit_transform(df[name])\n",
    "    return le.classes_\n",
    "\n",
    "# Convert a Pandas dataframe to the x,y inputs that TensorFlow needs\n",
    "def to_xy(df, target):\n",
    "    result = []\n",
    "    for x in df.columns:\n",
    "        if x != target:\n",
    "            result.append(x)\n",
    "    # find out the type of the target column.  Is it really this hard? :(\n",
    "    target_type = df[target].dtypes\n",
    "    target_type = target_type[0] if hasattr(target_type, '__iter__') else target_type\n",
    "    # Encode to int for classification, float otherwise. TensorFlow likes 32 bits.\n",
    "    if target_type in (np.int64, np.int32):\n",
    "        # Classification\n",
    "        dummies = pd.get_dummies(df[target])\n",
    "        return df.as_matrix(result).astype(np.float32), dummies.as_matrix().astype(np.float32)\n",
    "    else:\n",
    "        # Regression\n",
    "        return df.as_matrix(result).astype(np.float32), df.as_matrix([target]).astype(np.float32)\n"
   ]
  },
  {
   "cell_type": "markdown",
   "metadata": {},
   "source": [
    "##데이터 시각화 함수 정의##"
   ]
  },
  {
   "cell_type": "code",
   "execution_count": 2,
   "metadata": {},
   "outputs": [],
   "source": [
    "%matplotlib inline\n",
    "import matplotlib.pyplot as plt\n",
    "from sklearn.metrics import roc_curve, auc\n",
    "\n",
    "# Plot a confusion matrix.\n",
    "# cm -> confusion matrix / names -> 각 클래스의 이름\n",
    "def plot_confusion_matrix(cm, names, title='Confusion matrix', cmap=plt.cm.Blues):\n",
    "    plt.imshow(cm, interpolation='nearest', cmap=cmap)\n",
    "    plt.title(title)\n",
    "    plt.colorbar()\n",
    "    tick_marks = np.arange(len(names))\n",
    "    plt.xticks(tick_marks, names, rotation=45)\n",
    "    plt.yticks(tick_marks, names)\n",
    "    plt.tight_layout()\n",
    "    plt.ylabel('True label')\n",
    "    plt.xlabel('Predicted label')\n",
    "    "
   ]
  },
  {
   "cell_type": "markdown",
   "metadata": {},
   "source": [
    "##모델링##\n",
    "\n",
    "#예측 데이터#\n",
    "┌f_data -> 모 데이터(연도순)  Epoch 00051  Final accuracy: 0.5625\n",
    "\n",
    "│f_data_mod -> 모 데이터(재무비율순)  Epoch 00051  Final accuracy: 0.5625\n",
    "\n",
    "│f_data_A -> 유동비율  Epoch 00240  Final accuracy: 0.6875\n",
    "\n",
    "│f_data_B -> 총자본순이익률  Epoch 00105  Final accuracy: 0.75\n",
    "\n",
    "│f_data_C -> 총자본회전율  Epoch 00496  Final accuracy: 1.0\n",
    "\n",
    "│f_data_D -> 매출채권회전율  Epoch 00165  Final accuracy: 0.9375\n",
    "\n",
    "│f_data_E -> 부채비율  Epoch 00059  Final accuracy: 1.0\n",
    "\n",
    "└f_data_optimize -> 예측률높은 데이터모음  Epoch 00177  Final accuracy: 0.75\n",
    "\n",
    "\n",
    "#예측 데이터#\n",
    "┌f_10data -> 모 데이터(연도순)  Epoch 00108  Final accuracy: 0.65\n",
    "\n",
    "│f_10data_A -> 유동비율  Epoch 00061  Final accuracy: 0.7\n",
    "\n",
    "│f_10data_B -> 총자본순이익률  Epoch 00134  Final accuracy: 0.75\n",
    "\n",
    "│f_10data_C -> 총자본회전율  Epoch 00157  Final accuracy: 0.55\n",
    "\n",
    "│f_10data_D -> 매출채권회전율  Epoch 00102  Final accuracy: 0.8\n",
    "\n",
    "└f_10data_E -> 부채비율  Epoch 00054  Final accuracy: 0.75\n",
    "\n",
    "\n",
    "#training set & test set#\n",
    "전체 데이터셋의 15% 임의추출 -> test set 으로 사용\n",
    "\n",
    "#model#\n",
    "keras의 Sequential 모델 사용 (-> 다중퍼셉트론 방식 모델링에 적합)\n",
    "\n",
    "#train#\n",
    "활성함수 -> (relu -> relu -> softmax)\n",
    "epoch -> setting : 1000 / 충분히 학습되어 발전가능성 x : early stopping\n",
    "\n",
    "batch_size : 10 (10개씩 묶음으로 학습)\n"
   ]
  },
  {
   "cell_type": "code",
   "execution_count": 31,
   "metadata": {},
   "outputs": [
    {
     "name": "stdout",
     "output_type": "stream",
     "text": [
      "Epoch 00069: early stopping\n",
      "20/20 [==============================] - 0s 601us/step\n",
      "## evaluation loss and_metrics ##\n",
      "[3.8383233547210693, 0.5999999940395355]\n",
      "Final accuracy: 0.6\n"
     ]
    }
   ],
   "source": [
    "\n",
    "import os\n",
    "import pandas as pd\n",
    "from sklearn.model_selection import train_test_split\n",
    "import tensorflow as tf\n",
    "import numpy as np\n",
    "from sklearn import metrics\n",
    "from keras.models import Sequential\n",
    "from keras.layers.core import Dense, Activation\n",
    "from keras.callbacks import EarlyStopping\n",
    "from keras.callbacks import ModelCheckpoint\n",
    "from keras.utils import np_utils\n",
    "\n",
    "# Set the desired TensorFlow output level for this example\n",
    "tf.logging.set_verbosity(tf.logging.ERROR)\n",
    "\n",
    "path = \"./data/\"\n",
    "    \n",
    "filename = os.path.join(path,\"f_10data.csv\")    \n",
    "df = pd.read_csv(filename,na_values=['NA','?'])\n",
    "\n",
    "# feature vector 인코딩\n",
    "audit = encode_text_index(df,'audit')\n",
    "num_classes = len(audit)\n",
    "\n",
    "# x축 데이터 설정\n",
    "x, y = to_xy(df,'audit')\n",
    "    \n",
    "# train/test set 분할\n",
    "x_train, x_test, y_train, y_test = train_test_split(    \n",
    "    x, y, test_size=0.20, random_state=42) \n",
    "\n",
    "# 모델 구성\n",
    "model = Sequential()\n",
    "model.add(Dense(20, input_dim=x.shape[1], activation='relu'))\n",
    "model.add(Dense(10, activation='relu'))\n",
    "model.add(Dense(y.shape[1],activation='softmax'))\n",
    "model.compile(loss='categorical_crossentropy', optimizer='adam', metrics=['accuracy'])\n",
    "monitor = EarlyStopping(monitor='val_loss', min_delta=1e-3, patience=50, verbose=1, mode='auto')\n",
    "checkpointer = ModelCheckpoint(filepath=\"best_weights.hdf5\", verbose=0, save_best_only=True) # 가장 좋은 모델 저장\n",
    "hist = model.fit(x_train,y_train,validation_data=(x_test,y_test),callbacks=[monitor,checkpointer],verbose=0,epochs=1000, batch_size=10)\n",
    "model.load_weights('best_weights.hdf5') # 가장 좋은 모델의 weights 저장\n",
    "\n",
    "loss_and_metrics = model.evaluate(x_test, y_test, batch_size=10)\n",
    "print('## evaluation loss and_metrics ##')\n",
    "print(loss_and_metrics)\n",
    "\n",
    "# 정확도 예측\n",
    "pred = model.predict(x_test)\n",
    "pred = np.argmax(pred,axis=1)\n",
    "y_compare = np.argmax(y_test,axis=1)\n",
    "score = metrics.accuracy_score(y_compare, pred)\n",
    "print(\"Final accuracy: {}\".format(score))\n"
   ]
  },
  {
   "cell_type": "markdown",
   "metadata": {},
   "source": [
    "##예측치 시각화##"
   ]
  },
  {
   "cell_type": "code",
   "execution_count": 32,
   "metadata": {},
   "outputs": [
    {
     "name": "stdout",
     "output_type": "stream",
     "text": [
      "Confusion matrix\n",
      "[[7 5]\n",
      " [3 5]]\n",
      "Normalized confusion matrix\n",
      "[[0.58 0.42]\n",
      " [0.38 0.62]]\n"
     ]
    },
    {
     "data": {
      "image/png": "[encoded data removed]",
      "text/plain": [
       "<matplotlib.figure.Figure at 0x27afb2bf400>"
      ]
     },
     "metadata": {},
     "output_type": "display_data"
    },
    {
     "data": {
      "image/png": "[encoded data removed]",
      "text/plain": [
       "<matplotlib.figure.Figure at 0x27afad12198>"
      ]
     },
     "metadata": {},
     "output_type": "display_data"
    }
   ],
   "source": [
    "import numpy as np\n",
    "\n",
    "from sklearn import svm, datasets\n",
    "from sklearn.model_selection import train_test_split\n",
    "from sklearn.metrics import confusion_matrix\n",
    "\n",
    "# confusion matrix\n",
    "cm = confusion_matrix(y_compare, pred)\n",
    "np.set_printoptions(precision=2)\n",
    "print('Confusion matrix')\n",
    "print(cm)\n",
    "plt.figure()\n",
    "plot_confusion_matrix(cm, audit)\n",
    "\n",
    "# 정규화된 confusion matrix\n",
    "cm_normalized = cm.astype('float') / cm.sum(axis=1)[:, np.newaxis]\n",
    "print('Normalized confusion matrix')\n",
    "print(cm_normalized)\n",
    "plt.figure()\n",
    "plot_confusion_matrix(cm_normalized, audit, title='Normalized confusion matrix')\n",
    "\n",
    "plt.show()"
   ]
  },
  {
   "cell_type": "markdown",
   "metadata": {},
   "source": [
    "##적절히 training 되었는지 확인##"
   ]
  },
  {
   "cell_type": "code",
   "execution_count": 33,
   "metadata": {},
   "outputs": [
    {
     "data": {
      "image/png": "[encoded data removed]",
      "text/plain": [
       "<matplotlib.figure.Figure at 0x27afb1ca080>"
      ]
     },
     "metadata": {},
     "output_type": "display_data"
    }
   ],
   "source": [
    "%matplotlib inline\n",
    "import matplotlib.pyplot as plt\n",
    "\n",
    "fig, loss_ax = plt.subplots()\n",
    "\n",
    "acc_ax = loss_ax.twinx()\n",
    "\n",
    "loss_ax.plot(hist.history['loss'], 'y', label='train loss')\n",
    "loss_ax.plot(hist.history['val_loss'], 'r', label='val loss')\n",
    "\n",
    "acc_ax.plot(hist.history['acc'], 'b', label='train acc')\n",
    "acc_ax.plot(hist.history['val_acc'], 'g', label='val acc')\n",
    "\n",
    "loss_ax.set_xlabel('epoch')\n",
    "loss_ax.set_ylabel('loss')\n",
    "acc_ax.set_ylabel('accuray')\n",
    "\n",
    "loss_ax.legend(loc='upper left')\n",
    "acc_ax.legend(loc='lower left')\n",
    "\n",
    "plt.show()"
   ]
  }
 ],
 "metadata": {
  "kernelspec": {
   "display_name": "Python 3",
   "language": "python",
   "name": "python3"
  },
  "language_info": {
   "codemirror_mode": {
    "name": "ipython",
    "version": 3
   },
   "file_extension": ".py",
   "mimetype": "text/x-python",
   "name": "python",
   "nbconvert_exporter": "python",
   "pygments_lexer": "ipython3",
   "version": "3.6.3"
  }
 },
 "nbformat": 4,
 "nbformat_minor": 2
}
